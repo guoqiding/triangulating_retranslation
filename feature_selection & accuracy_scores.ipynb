{
 "cells": [
  {
   "cell_type": "code",
   "execution_count": 1,
   "id": "ae27a1ad",
   "metadata": {},
   "outputs": [],
   "source": [
    "# find best features for multi-lable classification modeling\n",
    "import pandas as pd\n",
    "import numpy as np\n",
    "import matplotlib.pyplot as plt\n",
    "from sklearn.feature_selection import SelectKBest, f_classif\n",
    "from sklearn.pipeline import Pipeline\n",
    "from sklearn.preprocessing import StandardScaler\n",
    "from sklearn.svm import LinearSVC\n",
    "import matplotlib.pyplot as plt\n",
    "import sklearn.model_selection as ms\n",
    "from sklearn.model_selection import cross_val_score"
   ]
  },
  {
   "cell_type": "code",
   "execution_count": 5,
   "id": "e446a9ff",
   "metadata": {},
   "outputs": [
    {
     "data": {
      "text/plain": [
       "'D:\\\\python3\\\\Scripts'"
      ]
     },
     "execution_count": 5,
     "metadata": {},
     "output_type": "execute_result"
    }
   ],
   "source": [
    "import os\n",
    "os.getcwd()"
   ]
  },
  {
   "cell_type": "code",
   "execution_count": 6,
   "id": "bb4db4e1",
   "metadata": {},
   "outputs": [],
   "source": [
    "os.chdir('D:/project/gatsby')"
   ]
  },
  {
   "cell_type": "code",
   "execution_count": 16,
   "id": "687ee02e",
   "metadata": {},
   "outputs": [],
   "source": [
    "data = pd.read_csv('feature_data21.csv')\n",
    "X = data.drop(data.columns[[0,1]], axis=1)\n",
    "y = data.id"
   ]
  },
  {
   "cell_type": "code",
   "execution_count": 12,
   "id": "29421d31",
   "metadata": {},
   "outputs": [],
   "source": [
    "clf = Pipeline(\n",
    "    [\n",
    "        (\"anova\", SelectKBest(f_classif)),\n",
    "        (\"scaler\", StandardScaler()),\n",
    "        (\"svc\", LinearSVC(dual=\"auto\")),\n",
    "    ]\n",
    ")\n",
    "\n",
    "score_means = list()\n",
    "score_stds = list()\n",
    "nfs = range(1, len(X.columns)+1)\n",
    "\n",
    "for n in nfs:\n",
    "    clf.set_params(anova__k=n)\n",
    "    this_scores = cross_val_score(clf, X, y, cv = ms.StratifiedKFold(shuffle = True))\n",
    "    score_means.append(this_scores.mean())\n",
    "    score_stds.append(this_scores.std())"
   ]
  },
  {
   "cell_type": "code",
   "execution_count": 13,
   "id": "1b9f2ab5",
   "metadata": {},
   "outputs": [
    {
     "data": {
      "image/png": "[encoded data removed]",
      "text/plain": [
       "<Figure size 432x288 with 1 Axes>"
      ]
     },
     "metadata": {
      "needs_background": "light"
     },
     "output_type": "display_data"
    }
   ],
   "source": [
    "plt.errorbar(nfs, score_means, np.array(score_stds))\n",
    "plt.title(\"Performance of SVM-Anova Classifer\")\n",
    "plt.xticks(nfs)\n",
    "plt.xlabel(\"Numbers of Features\")\n",
    "plt.ylabel(\"Cross-validation Accuracy\")\n",
    "plt.axis(\"tight\")\n",
    "plt.show()"
   ]
  },
  {
   "cell_type": "code",
   "execution_count": 14,
   "id": "261b172d",
   "metadata": {},
   "outputs": [],
   "source": [
    "# calculate the precision, recall and f1-score of features\n",
    "from sklearn.pipeline import make_pipeline\n",
    "from sklearn.metrics import classification_report, accuracy_score"
   ]
  },
  {
   "cell_type": "code",
   "execution_count": 19,
   "id": "1d48572a",
   "metadata": {},
   "outputs": [
    {
     "name": "stdout",
     "output_type": "stream",
     "text": [
      "(270, 17)\n",
      "              precision    recall  f1-score   support\n",
      "\n",
      "        deng       0.63      0.57      0.60        30\n",
      "        lijc       0.82      0.93      0.87        30\n",
      "        lijh       0.81      0.73      0.77        30\n",
      "        qiao       0.82      0.77      0.79        30\n",
      "          su       0.74      0.93      0.82        30\n",
      "        wang       0.91      0.97      0.94        30\n",
      "          wu       0.60      0.70      0.65        30\n",
      "         yao       0.55      0.37      0.44        30\n",
      "       zhang       0.90      0.87      0.88        30\n",
      "\n",
      "    accuracy                           0.76       270\n",
      "   macro avg       0.75      0.76      0.75       270\n",
      "weighted avg       0.75      0.76      0.75       270\n",
      "\n"
     ]
    }
   ],
   "source": [
    "# define feature selection\n",
    "fs = SelectKBest(score_func=f_classif, k=17)\n",
    "# apply feature selection\n",
    "X_selected = fs.fit_transform(X, y)\n",
    "print(X_selected.shape)\n",
    "anova_filter = fs\n",
    "clf = LinearSVC(dual=\"auto\")\n",
    "anova_svm = make_pipeline(anova_filter, clf)\n",
    "anova_svm.fit(X, y)\n",
    "y_pred = anova_svm.predict(X)\n",
    "print(classification_report(y, y_pred))"
   ]
  },
  {
   "cell_type": "code",
   "execution_count": 20,
   "id": "1a672f5d",
   "metadata": {},
   "outputs": [
    {
     "name": "stdout",
     "output_type": "stream",
     "text": [
      "Feature kttr: 20.591673\n",
      "Feature hapax: 1.144448\n",
      "Feature rwr: 4.679768\n",
      "Feature cwr: 11.111315\n",
      "Feature idm: 10.942197\n",
      "Feature mwr: 11.907398\n",
      "Feature nn: 4.260669\n",
      "Feature vv: 4.867365\n",
      "Feature jj: 2.605742\n",
      "Feature ad: 14.858983\n",
      "Feature con: 59.581049\n",
      "Feature cc: 3.396509\n",
      "Feature pp: 9.454975\n",
      "Feature pn: 3.983249\n",
      "Feature n2v: 2.140895\n",
      "Feature v2j: 2.248868\n",
      "Feature asl: 14.992267\n",
      "Feature pun: 4.293977\n",
      "Feature mdd: 9.465588\n",
      "Feature ba: 9.327176\n",
      "Feature bei: 10.672968\n"
     ]
    }
   ],
   "source": [
    "# getting Fisher's Scores for all features\n",
    "def get_numerical_features(features, class_label):\n",
    "    #class_label is already a Dataframe in your data demo\n",
    "    fs=SelectKBest(f_classif, k='all')\n",
    "    fs.fit(features, class_label)\n",
    "\n",
    "    for i, feature in zip(range(len(features)), features): \n",
    "        print('Feature %s: %f' % (feature, fs.scores_[i]))\n",
    "\n",
    "# applying the function\n",
    "get_numerical_features(features=X, class_label=y)"
   ]
  },
  {
   "cell_type": "code",
   "execution_count": 23,
   "id": "caaaa5af",
   "metadata": {},
   "outputs": [],
   "source": [
    "# calculate accuracy scores for all pairs\n",
    "df = pd.read_csv('feature_data17.csv')\n",
    "labels = ['qiao','wu','yao','wang','lijh','deng','zhang','su','lijc'][::-1]\n",
    "fs = SelectKBest(score_func=f_classif, k='all')\n",
    "clf = LinearSVC(dual=\"auto\")\n",
    "ascore = []\n",
    "for i in range(8):\n",
    "    for j in range(1, 9):\n",
    "        if i>=j: continue\n",
    "        data = df.loc[(df['id'] == labels[i])|(df['id'] == labels[j])]\n",
    "        X = data.drop(data.columns[[0,1]], axis=1)\n",
    "        y = data.id\n",
    "        anova_svm = make_pipeline(fs, clf)\n",
    "        anova_svm.fit(X, y)\n",
    "        y_pred = anova_svm.predict(X)\n",
    "        acs = accuracy_score(y, y_pred)\n",
    "        pa = (labels[i], labels[j], acs)\n",
    "        ascore.append(pa)\n",
    "df_ascore = pd.DataFrame(ascore)\n",
    "df_ascore.columns = ['V1', 'V2', 'Accuracy']\n",
    "df_ascore.to_csv('pair-wise_accuracy_scores.csv', sep=',', index=False)"
   ]
  },
  {
   "cell_type": "code",
   "execution_count": 24,
   "id": "2e9839b6",
   "metadata": {},
   "outputs": [],
   "source": [
    "# transform the data into a table\n",
    "df=df_ascore\n",
    "df.V1=pd.Categorical(df.V1, categories=df.V1.unique()[::-1], ordered=True)\n",
    "df.V2=pd.Categorical(df.V2, categories=df.V2.unique(), ordered=True)\n",
    "tab = df.pivot_table(index='V1', columns='V2', values='Accuracy', sort=False).rename_axis(index=None, columns=None)#.T\n",
    "tab = tab.iloc[::-1, ::-1]\n",
    "tab.to_csv('pair-wise_accuracy_scores2.csv', sep=',', index=True)"
   ]
  },
  {
   "cell_type": "code",
   "execution_count": null,
   "id": "cc6fdfe0",
   "metadata": {},
   "outputs": [],
   "source": []
  }
 ],
 "metadata": {
  "kernelspec": {
   "display_name": "Python 3 (ipykernel)",
   "language": "python",
   "name": "python3"
  },
  "language_info": {
   "codemirror_mode": {
    "name": "ipython",
    "version": 3
   },
   "file_extension": ".py",
   "mimetype": "text/x-python",
   "name": "python",
   "nbconvert_exporter": "python",
   "pygments_lexer": "ipython3",
   "version": "3.10.0"
  }
 },
 "nbformat": 4,
 "nbformat_minor": 5
}
