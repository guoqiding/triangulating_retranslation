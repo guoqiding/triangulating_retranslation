{
 "cells": [
  {
   "cell_type": "code",
   "execution_count": 1,
   "id": "4de83557",
   "metadata": {},
   "outputs": [],
   "source": [
    "import os\n",
    "import re\n",
    "import io"
   ]
  },
  {
   "cell_type": "code",
   "execution_count": 2,
   "id": "3a773654",
   "metadata": {},
   "outputs": [],
   "source": [
    "# Start server from the root directory of CoreNLP before specifying the following tools\n",
    "from nltk.parse.corenlp import CoreNLPParser"
   ]
  },
  {
   "cell_type": "code",
   "execution_count": 3,
   "id": "50c9fa13",
   "metadata": {},
   "outputs": [],
   "source": [
    "parser = CoreNLPParser(url='http://localhost:9001', tagtype='pos')"
   ]
  },
  {
   "cell_type": "code",
   "execution_count": 5,
   "id": "f96cefe9",
   "metadata": {},
   "outputs": [
    {
     "name": "stdout",
     "output_type": "stream",
     "text": [
      "Writing file: D:/project/gatsby/texts\\chang\\ch1_1.txt\n",
      "Writing file: D:/project/gatsby/texts\\chang\\ch1_2.txt\n",
      "Writing file: D:/project/gatsby/texts\\chang\\ch1_3.txt\n",
      "Writing file: D:/project/gatsby/texts\\chang\\ch2_1.txt\n",
      "Writing file: D:/project/gatsby/texts\\chang\\ch2_2.txt\n",
      "Writing file: D:/project/gatsby/texts\\chang\\ch2_3.txt\n",
      "Writing file: D:/project/gatsby/texts\\chang\\ch3_1.txt\n",
      "Writing file: D:/project/gatsby/texts\\chang\\ch3_2.txt\n",
      "Writing file: D:/project/gatsby/texts\\chang\\ch3_3.txt\n",
      "Writing file: D:/project/gatsby/texts\\chang\\ch4_1.txt\n",
      "Writing file: D:/project/gatsby/texts\\chang\\ch4_2.txt\n",
      "Writing file: D:/project/gatsby/texts\\chang\\ch4_3.txt\n",
      "Writing file: D:/project/gatsby/texts\\chang\\ch5_1.txt\n",
      "Writing file: D:/project/gatsby/texts\\chang\\ch5_2.txt\n",
      "Writing file: D:/project/gatsby/texts\\chang\\ch5_3.txt\n",
      "Writing file: D:/project/gatsby/texts\\chang\\ch6_1.txt\n",
      "Writing file: D:/project/gatsby/texts\\chang\\ch6_2.txt\n",
      "Writing file: D:/project/gatsby/texts\\chang\\ch6_3.txt\n",
      "Writing file: D:/project/gatsby/texts\\chang\\ch7_1.txt\n",
      "Writing file: D:/project/gatsby/texts\\chang\\ch7_2.txt\n",
      "Writing file: D:/project/gatsby/texts\\chang\\ch7_3.txt\n",
      "Writing file: D:/project/gatsby/texts\\chang\\ch7_4.txt\n",
      "Writing file: D:/project/gatsby/texts\\chang\\ch7_5.txt\n",
      "Writing file: D:/project/gatsby/texts\\chang\\ch8_1.txt\n",
      "Writing file: D:/project/gatsby/texts\\chang\\ch8_2.txt\n",
      "Writing file: D:/project/gatsby/texts\\chang\\ch8_3.txt\n",
      "Writing file: D:/project/gatsby/texts\\chang\\ch9_1.txt\n",
      "Writing file: D:/project/gatsby/texts\\chang\\ch9_2.txt\n",
      "Writing file: D:/project/gatsby/texts\\chang\\ch9_3.txt\n",
      "Writing file: D:/project/gatsby/texts\\yao\\ch1_1.txt\n",
      "Writing file: D:/project/gatsby/texts\\yao\\ch1_2.txt\n",
      "Writing file: D:/project/gatsby/texts\\yao\\ch1_3.txt\n",
      "Writing file: D:/project/gatsby/texts\\yao\\ch2_1.txt\n",
      "Writing file: D:/project/gatsby/texts\\yao\\ch2_2.txt\n",
      "Writing file: D:/project/gatsby/texts\\yao\\ch2_3.txt\n",
      "Writing file: D:/project/gatsby/texts\\yao\\ch3_1.txt\n",
      "Writing file: D:/project/gatsby/texts\\yao\\ch3_2.txt\n",
      "Writing file: D:/project/gatsby/texts\\yao\\ch3_3.txt\n",
      "Writing file: D:/project/gatsby/texts\\yao\\ch4_1.txt\n",
      "Writing file: D:/project/gatsby/texts\\yao\\ch4_2.txt\n",
      "Writing file: D:/project/gatsby/texts\\yao\\ch4_3.txt\n",
      "Writing file: D:/project/gatsby/texts\\yao\\ch5_1.txt\n",
      "Writing file: D:/project/gatsby/texts\\yao\\ch5_2.txt\n",
      "Writing file: D:/project/gatsby/texts\\yao\\ch5_3.txt\n",
      "Writing file: D:/project/gatsby/texts\\yao\\ch6_1.txt\n",
      "Writing file: D:/project/gatsby/texts\\yao\\ch6_2.txt\n",
      "Writing file: D:/project/gatsby/texts\\yao\\ch6_3.txt\n",
      "Writing file: D:/project/gatsby/texts\\yao\\ch7_1.txt\n",
      "Writing file: D:/project/gatsby/texts\\yao\\ch7_2.txt\n",
      "Writing file: D:/project/gatsby/texts\\yao\\ch7_3.txt\n",
      "Writing file: D:/project/gatsby/texts\\yao\\ch7_4.txt\n",
      "Writing file: D:/project/gatsby/texts\\yao\\ch7_5.txt\n",
      "Writing file: D:/project/gatsby/texts\\yao\\ch8_1.txt\n",
      "Writing file: D:/project/gatsby/texts\\yao\\ch8_2.txt\n",
      "Writing file: D:/project/gatsby/texts\\yao\\ch8_3.txt\n",
      "Writing file: D:/project/gatsby/texts\\yao\\ch9_1.txt\n",
      "Writing file: D:/project/gatsby/texts\\yao\\ch9_2.txt\n",
      "Writing file: D:/project/gatsby/texts\\yao\\ch9_3.txt\n"
     ]
    }
   ],
   "source": [
    "# specify the input and output master folders which contain all texts and subfolders\n",
    "indir = 'D:/project/gatsby/texts'\n",
    "outdir1 = 'D:/project/gatsby/texts_seg'\n",
    "outdir2 = 'D:/project/gatsby/texts_pos'\n",
    "\n",
    "# make a list of the files with their complete paths\n",
    "infiles = [os.path.join(root, name)\n",
    "          for root, dirs, files in os.walk(indir)\n",
    "          for name in files]\n",
    "\n",
    "# for each file from the input folder, if non-existent, create a corresponding subfolder in the output folder\n",
    "# work with the file and save the result in the corresponding subfolder of the output folder\n",
    "for fname in infiles:\n",
    "    infile = io.open(fname, 'r', encoding='gb18030')\n",
    "    newfolder1 = re.sub(indir, outdir1, re.sub(r'[^\\\\]+.txt','',fname))\n",
    "    if not os.path.exists(newfolder1):\n",
    "        os.makedirs(newfolder1)\n",
    "    newfolder2 = re.sub(indir, outdir2, re.sub(r'[^\\\\]+.txt','',fname))\n",
    "    if not os.path.exists(newfolder2):\n",
    "        os.makedirs(newfolder2)\n",
    "    result1 = io.open(re.sub(indir, outdir1, fname), 'w', encoding='gb18030')\n",
    "    result2 = io.open(re.sub(indir, outdir2, fname), 'w', encoding='gb18030')\n",
    "    print ('Writing file: '+fname+'')\n",
    "    lines = filter(None, (line.rstrip() for line in infile))\n",
    "    for line in lines:\n",
    "        seg = parser.tokenize(line)\n",
    "        output1 = ' '.join(x for x in seg)\n",
    "        result1.write(output1 + '\\r\\n')\n",
    "        pos = parser.tag(line.split())\n",
    "        output2 = ' '.join(list('_'.join(x) for x in pos))\n",
    "        result2.write(output2 + '\\r\\n')\n",
    "\n",
    "    infile.close()\n",
    "    result1.close()\n",
    "    result2.close()"
   ]
  },
  {
   "cell_type": "code",
   "execution_count": null,
   "id": "ff32c269",
   "metadata": {},
   "outputs": [],
   "source": []
  },
  {
   "cell_type": "code",
   "execution_count": null,
   "id": "ba28fe9f",
   "metadata": {},
   "outputs": [],
   "source": []
  }
 ],
 "metadata": {
  "kernelspec": {
   "display_name": "Python 3 (ipykernel)",
   "language": "python",
   "name": "python3"
  },
  "language_info": {
   "codemirror_mode": {
    "name": "ipython",
    "version": 3
   },
   "file_extension": ".py",
   "mimetype": "text/x-python",
   "name": "python",
   "nbconvert_exporter": "python",
   "pygments_lexer": "ipython3",
   "version": "3.10.0"
  }
 },
 "nbformat": 4,
 "nbformat_minor": 5
}
