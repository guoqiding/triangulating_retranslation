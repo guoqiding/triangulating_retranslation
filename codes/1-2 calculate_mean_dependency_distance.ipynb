{
 "cells": [
  {
   "cell_type": "code",
   "execution_count": 1,
   "id": "d175d56a",
   "metadata": {},
   "outputs": [],
   "source": [
    "# https://stackoverflow.com/questions/54102980/convert-a-tab-and-newline-delimited-string-to-pandas-dataframe/54103026\n",
    "# https://www.nltk.org/api/nltk.parse.corenlp.html#module-nltk.parse.corenlp\n",
    "# https://github.com/nltk/nltk/blob/develop/nltk/parse/corenlp.py\n",
    "\n",
    "import os, io, re\n",
    "import pandas as pd\n",
    "from nltk.parse.corenlp import CoreNLPDependencyParser"
   ]
  },
  {
   "cell_type": "code",
   "execution_count": 2,
   "id": "54ae27e0",
   "metadata": {},
   "outputs": [],
   "source": [
    "# Start server from the root directory of CoreNLP before specifying the following parser\n",
    "dep_parser = CoreNLPDependencyParser('http://localhost:9001')"
   ]
  },
  {
   "cell_type": "code",
   "execution_count": 7,
   "id": "b82802b9",
   "metadata": {},
   "outputs": [],
   "source": [
    "# specify the input and output folders which contain all texts and subfolders\n",
    "indir = 'D:/project/gatsby/texts_seg'\n",
    "outdir = 'D:/project/gatsby/texts_mdd'\n",
    "\n",
    "# make a list of the files with their complete paths\n",
    "infiles = [os.path.join(root, name)\n",
    "          for root, dirs, files in os.walk(indir)\n",
    "          for name in files]"
   ]
  },
  {
   "cell_type": "code",
   "execution_count": 8,
   "id": "e32e2c0d",
   "metadata": {},
   "outputs": [],
   "source": [
    "# for each file from the input folder, if non-existent, create a corresponding subfolder in the output folder\n",
    "# work with the file and save the result in the corresponding subfolder of the output folder\n",
    "col = ['word','pos','gid','wdr']\n",
    "totaldd = pd.DataFrame(columns = ['id','text','mdd'])        #section average dd\n",
    "for fname in infiles:\n",
    "    newfolder = re.sub(indir, outdir, re.sub(r'[^\\\\]+.txt','',fname))\n",
    "    if not os.path.exists(newfolder):\n",
    "        os.makedirs(newfolder)\n",
    "    dd = pd.DataFrame(columns = ['sid','mdd'])\n",
    "    n = 1\n",
    "    f = io.open(fname, 'r', encoding='gb18030')  # encoding='utf-8'\n",
    "    lines = filter(None, (l.rstrip() for l in f))\n",
    "    for line in lines:\n",
    "        parsed_sents = dep_parser.parse_text(line)\n",
    "        for parsed_sent in parsed_sents:\n",
    "            pconll = parsed_sent.to_conll(4)\n",
    "            strl = re.sub('\\n$','',pconll).split('\\n')\n",
    "            sent = pd.DataFrame([x.split('\\t') for x in strl], columns=col)\n",
    "            sent['sid'] = n\n",
    "            sent['wid'] = range(1, len(sent)+1)\n",
    "            ddf = sent[(sent.wdr!=\"root\") & (sent.wdr!=\"ROOT\") & (sent.wdr!=\"punct\")].copy()\n",
    "            ddf['dis'] = abs(ddf.wid - ddf.gid.astype(int))\n",
    "            dd.loc[len(dd)] = [n, ddf.loc[:,\"dis\"].mean()]\n",
    "            n += 1\n",
    "    dd.to_csv(os.path.join(outdir, re.sub(indir,'',re.sub(r'.txt','_mdd.csv',fname))), encoding='gb18030', sep=',', index=False)\n",
    "    totaldd.loc[len(totaldd)] = [re.sub(indir,'',re.sub(r'\\\\[^\\\\]+.txt','',fname)), re.sub(r'.*\\\\([^\\\\]+).txt','\\\\1',fname), dd.loc[:,\"mdd\"].mean()]\n",
    "totaldd.to_csv(os.path.join(outdir, 'totaldd.csv'), encoding='gb18030', sep=',',index=False)"
   ]
  },
  {
   "cell_type": "code",
   "execution_count": null,
   "id": "8eed0301",
   "metadata": {},
   "outputs": [],
   "source": []
  }
 ],
 "metadata": {
  "kernelspec": {
   "display_name": "Python 3 (ipykernel)",
   "language": "python",
   "name": "python3"
  },
  "language_info": {
   "codemirror_mode": {
    "name": "ipython",
    "version": 3
   },
   "file_extension": ".py",
   "mimetype": "text/x-python",
   "name": "python",
   "nbconvert_exporter": "python",
   "pygments_lexer": "ipython3",
   "version": "3.10.0"
  }
 },
 "nbformat": 4,
 "nbformat_minor": 5
}
