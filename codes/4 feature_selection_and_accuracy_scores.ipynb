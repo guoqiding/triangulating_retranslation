{
 "cells": [
  {
   "cell_type": "code",
   "execution_count": 1,
   "id": "ae27a1ad",
   "metadata": {},
   "outputs": [],
   "source": [
    "# find best features for multi-lable classification modeling\n",
    "import pandas as pd\n",
    "import numpy as np\n",
    "import matplotlib.pyplot as plt\n",
    "from sklearn.feature_selection import SelectKBest, f_classif\n",
    "from sklearn.pipeline import Pipeline\n",
    "from sklearn.preprocessing import StandardScaler\n",
    "from sklearn.svm import LinearSVC\n",
    "import matplotlib.pyplot as plt\n",
    "import sklearn.model_selection as ms\n",
    "from sklearn.model_selection import cross_val_score"
   ]
  },
  {
   "cell_type": "code",
   "execution_count": 2,
   "id": "e446a9ff",
   "metadata": {},
   "outputs": [
    {
     "data": {
      "text/plain": [
       "'D:\\\\python3\\\\Scripts'"
      ]
     },
     "execution_count": 2,
     "metadata": {},
     "output_type": "execute_result"
    }
   ],
   "source": [
    "import os\n",
    "os.getcwd()"
   ]
  },
  {
   "cell_type": "code",
   "execution_count": 3,
   "id": "bb4db4e1",
   "metadata": {},
   "outputs": [],
   "source": [
    "os.chdir('D:/project/gatsby')"
   ]
  },
  {
   "cell_type": "code",
   "execution_count": 59,
   "id": "687ee02e",
   "metadata": {},
   "outputs": [],
   "source": [
    "# set the seed and load the data\n",
    "np.random.seed(111)\n",
    "data = pd.read_csv('data/feature_document_matrix_21.csv')\n",
    "X = data.drop(data.columns[[0,1]], axis=1)\n",
    "y = data.id"
   ]
  },
  {
   "cell_type": "code",
   "execution_count": 60,
   "id": "29421d31",
   "metadata": {},
   "outputs": [],
   "source": [
    "# calculate the performance of SVM-anova classifer\n",
    "clf = Pipeline(\n",
    "    [\n",
    "        (\"anova\", SelectKBest(f_classif)),\n",
    "        (\"scaler\", StandardScaler()),\n",
    "        (\"svc\", LinearSVC(dual=\"auto\")),\n",
    "    ]\n",
    ")\n",
    "\n",
    "score_means = list()\n",
    "score_stds = list()\n",
    "nfs = range(1, len(X.columns)+1)\n",
    "\n",
    "for n in nfs:\n",
    "    clf.set_params(anova__k=n)\n",
    "    this_scores = cross_val_score(clf, X, y, cv = ms.StratifiedKFold(shuffle = True))\n",
    "    score_means.append(this_scores.mean())\n",
    "    score_stds.append(this_scores.std())"
   ]
  },
  {
   "cell_type": "code",
   "execution_count": 61,
   "id": "1b9f2ab5",
   "metadata": {},
   "outputs": [
    {
     "data": {
      "image/png": "[encoded data removed]",
      "text/plain": [
       "<Figure size 432x288 with 1 Axes>"
      ]
     },
     "metadata": {
      "needs_background": "light"
     },
     "output_type": "display_data"
    }
   ],
   "source": [
    "# plot the performance of SVM-anova classifer\n",
    "plt.errorbar(nfs, score_means, np.array(score_stds))\n",
    "plt.title(\"Performance of SVM-Anova Classifer\")\n",
    "plt.xticks(nfs)\n",
    "plt.xlabel(\"Numbers of Features\")\n",
    "plt.ylabel(\"Cross-validation Accuracy\")\n",
    "plt.axis(\"tight\")\n",
    "plt.show()"
   ]
  },
  {
   "cell_type": "code",
   "execution_count": 62,
   "id": "261b172d",
   "metadata": {},
   "outputs": [],
   "source": [
    "# calculate the precision, recall and f1-score of features\n",
    "from sklearn.pipeline import make_pipeline\n",
    "from sklearn.metrics import classification_report, accuracy_score"
   ]
  },
  {
   "cell_type": "code",
   "execution_count": 73,
   "id": "1d48572a",
   "metadata": {},
   "outputs": [
    {
     "name": "stdout",
     "output_type": "stream",
     "text": [
      "(261, 17)\n",
      "              precision    recall  f1-score   support\n",
      "\n",
      "         kao       0.92      0.79      0.85        29\n",
      "          wu       0.62      0.72      0.67        29\n",
      "         yao       0.56      0.34      0.43        29\n",
      "        wang       0.96      0.93      0.95        29\n",
      "        lijh       0.77      0.79      0.78        29\n",
      "        deng       0.58      0.52      0.55        29\n",
      "       chang       0.84      0.90      0.87        29\n",
      "          su       0.75      0.93      0.83        29\n",
      "        lijc       0.82      0.93      0.87        29\n",
      "\n",
      "    accuracy                           0.76       261\n",
      "   macro avg       0.76      0.76      0.75       261\n",
      "weighted avg       0.76      0.76      0.75       261\n",
      "\n"
     ]
    }
   ],
   "source": [
    "# define feature selection\n",
    "fs = SelectKBest(score_func=f_classif, k=17)\n",
    "# apply feature selection\n",
    "X_selected = fs.fit_transform(X, y)\n",
    "print(X_selected.shape)\n",
    "anova_filter = fs\n",
    "clf = LinearSVC(dual=\"auto\")\n",
    "anova_svm = make_pipeline(anova_filter, clf)\n",
    "anova_svm.fit(X, y)\n",
    "y_pred = anova_svm.predict(X)\n",
    "labels = ['kao','wu','yao','wang','lijh','deng','chang','su','lijc']\n",
    "print(classification_report(y, y_pred, labels=labels))"
   ]
  },
  {
   "cell_type": "code",
   "execution_count": 77,
   "id": "1a672f5d",
   "metadata": {},
   "outputs": [
    {
     "name": "stdout",
     "output_type": "stream",
     "text": [
      "   feature      score\n",
      "10     con  55.608979\n",
      "0     kttr  19.218895\n",
      "16     asl  13.992783\n",
      "9       ad  13.868385\n",
      "5      mwr  11.113572\n",
      "3       cw  10.370561\n",
      "4      idm  10.212717\n",
      "20     bei   9.961437\n",
      "18     mdd   8.834549\n",
      "12      pp   8.824643\n",
      "19      ba   8.705364\n",
      "7       vv   4.542874\n",
      "2       rw   4.367783\n",
      "17     pun   4.007712\n",
      "6       nn   3.976624\n",
      "13      pn   3.717699\n",
      "11      cc   3.170075\n",
      "8       jj   2.432026\n",
      "15     v2j   2.098943\n",
      "14     n2v   1.998169\n",
      "1    hapax   1.068151\n"
     ]
    }
   ],
   "source": [
    "# getting Fisher's Scores for all features\n",
    "def get_numerical_features(features, class_label):\n",
    "    #class_label is already a Dataframe in your data demo\n",
    "    fs=SelectKBest(f_classif, k='all')\n",
    "    fs.fit(features, class_label)\n",
    "    scores = pd.DataFrame({'feature': X.columns, 'score': fs.scores_})\n",
    "    scores = scores.sort_values(by='score', ascending=False)\n",
    "    print(scores)\n",
    "\n",
    "    #for i, feature in zip(range(len(features)), features): \n",
    "        #print('Feature %s: %f' % (feature, fs.scores_[i]))\n",
    "\n",
    "# applying the function\n",
    "get_numerical_features(features=X, class_label=y)"
   ]
  },
  {
   "cell_type": "code",
   "execution_count": 14,
   "id": "caaaa5af",
   "metadata": {},
   "outputs": [],
   "source": [
    "# calculate accuracy scores for all pairs\n",
    "df = pd.read_csv('data/feature_document_matrix_17.csv')\n",
    "labels = ['kao','wu','yao','wang','lijh','deng','chang','su','lijc'][::-1]\n",
    "fs = SelectKBest(score_func=f_classif, k='all')\n",
    "clf = LinearSVC(dual=\"auto\")\n",
    "ascore = []\n",
    "for i in range(8):\n",
    "    for j in range(1, 9):\n",
    "        if i>=j: continue\n",
    "        data = df.loc[(df['id'] == labels[i])|(df['id'] == labels[j])]\n",
    "        X = data.drop(data.columns[[0,1]], axis=1)\n",
    "        y = data.id\n",
    "        anova_svm = make_pipeline(fs, clf)\n",
    "        anova_svm.fit(X, y)\n",
    "        y_pred = anova_svm.predict(X)\n",
    "        acs = accuracy_score(y, y_pred)\n",
    "        pa = (labels[i], labels[j], acs)\n",
    "        ascore.append(pa)\n",
    "df_ascore = pd.DataFrame(ascore)\n",
    "df_ascore.columns = ['V1', 'V2', 'Accuracy']\n",
    "df_ascore.to_csv('results/pair-wise_accuracy_scores.csv', sep=',', index=False)"
   ]
  },
  {
   "cell_type": "code",
   "execution_count": 15,
   "id": "2e9839b6",
   "metadata": {},
   "outputs": [],
   "source": [
    "# transform the data into a table\n",
    "df=df_ascore\n",
    "df.V1=pd.Categorical(df.V1, categories=df.V1.unique()[::-1], ordered=True)\n",
    "df.V2=pd.Categorical(df.V2, categories=df.V2.unique(), ordered=True)\n",
    "tab = df.pivot_table(index='V1', columns='V2', values='Accuracy', sort=False).rename_axis(index=None, columns=None)#.T\n",
    "tab = tab.iloc[::-1, ::-1]\n",
    "tab.to_csv('results/pair-wise_accuracy_scores_trans.csv', sep=',', index=True)"
   ]
  },
  {
   "cell_type": "code",
   "execution_count": null,
   "id": "cc6fdfe0",
   "metadata": {},
   "outputs": [],
   "source": []
  }
 ],
 "metadata": {
  "kernelspec": {
   "display_name": "Python 3 (ipykernel)",
   "language": "python",
   "name": "python3"
  },
  "language_info": {
   "codemirror_mode": {
    "name": "ipython",
    "version": 3
   },
   "file_extension": ".py",
   "mimetype": "text/x-python",
   "name": "python",
   "nbconvert_exporter": "python",
   "pygments_lexer": "ipython3",
   "version": "3.10.0"
  }
 },
 "nbformat": 4,
 "nbformat_minor": 5
}
